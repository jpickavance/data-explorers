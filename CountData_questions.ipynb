{
 "cells": [
  {
   "cell_type": "markdown",
   "metadata": {
    "collapsed": false
   },
   "source": [
    "# Count Data  \n",
    "## Initialising R  \n",
    "In this lesson we will be exploring the cars database that will be used in your A-level.\n",
    "We will be using a powerful programming language called *R*.\n",
    "To run code in *R*:  \n",
    "1. Click on the box containing code to highlight it in green.\n",
    "2. Click on the play button above to show the output.\n",
    "\n",
    "#### **Exercise 1**  \n",
    "Load the data and settings by running the code below. If you do this successfully you should get a message in the output."
   ]
  },
  {
   "cell_type": "code",
   "execution_count": 0,
   "metadata": {
    "collapsed": false
   },
   "outputs": [
   ],
   "source": [
    "library(tidyverse)\n",
    "library(readr)\n",
    "\n",
    "options(repr.plot.width=8,\n",
    "        repr.plot.height=4,\n",
    "        warn=-1)\n",
    "\n",
    "clean_theme <- theme_bw(base_size=12, base_family=\"sans\") + \n",
    "  theme(panel.border = element_blank(), \n",
    "        panel.grid.major = element_blank(),\n",
    "        panel.grid.minor = element_blank(),\n",
    "        legend.text = element_text(size = 12),\n",
    "        legend.title = element_text(size=12),\n",
    "        axis.line = element_line(size = 0.5, colour = \"black\"),\n",
    "        axis.title = element_text(face = \"plain\"),\n",
    "        strip.background = element_blank()\n",
    "  )\n",
    "\n",
    "clean_theme_hist <- theme_bw(base_size=12, base_family=\"sans\") + \n",
    "  theme(panel.border = element_blank(), \n",
    "        panel.grid.major = element_blank(),\n",
    "        panel.grid.minor = element_blank(),\n",
    "        legend.text = element_text(size = 12),\n",
    "        legend.title = element_text(size=12),\n",
    "        axis.line = element_line(size = 0.5, colour = \"black\"),\n",
    "        axis.title = element_text(face = \"plain\"),\n",
    "        strip.background = element_blank(),\n",
    "        axis.text.y = element_blank(),\n",
    "        axis.ticks.y = element_blank()\n",
    "  )\n",
    "\n",
    "car_df <-\n",
    "  read_csv(\"cars_data.csv\")\n",
    "\n",
    "car_data <-\n",
    "  car_df %>%\n",
    "  mutate(YearRegistered = as.factor(YearRegistered),\n",
    "         GovRegion = as.factor(GovRegion),\n",
    "         PropulsionTypeId = as.factor(ifelse(PropulsionTypeId == 1, \"Petrol\",\n",
    "                                   ifelse(PropulsionTypeId == 2, \"Diesel\",\n",
    "                                          ifelse(PropulsionTypeId == 3, \"Electric\",\n",
    "                                                 ifelse(PropulsionTypeId == 7, \"Gas/Petrol\",\n",
    "                                                        ifelse(PropulsionTypeId == 8, \"Electric/Petrol\", NA)))))),\n",
    "         BodyTypeId = as.factor(ifelse(BodyTypeId == 1, \"2 door saloon\",\n",
    "                             ifelse(BodyTypeId == 2, \"4 door saloon\",\n",
    "                                    ifelse(BodyTypeId == 3, \"saloon\",\n",
    "                                           ifelse(BodyTypeId == 4, \"convertible\",\n",
    "                                                  ifelse(BodyTypeId == 5, \"coupe\",\n",
    "                                                         ifelse(BodyTypeId == 6, \"estate\",\n",
    "                                                                ifelse(BodyTypeId == 13, \"3 door hatchback\",\n",
    "                                                                       ifelse(BodyTypeId == 14, \"5 door hatchback\",\n",
    "                                                                              ifelse(BodyTypeId == 96, \"Multi Purpose Vehicle\", NA)))))))))),\n",
    "         KeeperTitleId = as.factor(ifelse(KeeperTitleId == 1, \"Male\",\n",
    "                                ifelse(KeeperTitleId == 2, \"Female\",\n",
    "                                       ifelse(KeeperTitleId == 3, \"(not used)\",\n",
    "                                              ifelse(KeeperTitleId == 4, \"unknown (Dr, Rev, etc.)\",\n",
    "                                                     ifelse(KeeperTitleId == 5, \"company\", NA)))))),\n",
    "         Make = as.factor(Make))\n",
    "print(\"Ready to rumble\")"
   ]
  },
  {
   "cell_type": "markdown",
   "metadata": {
    "collapsed": false
   },
   "source": [
    "## Inspecting the data\n",
    "\n",
    "Each row is a single entry (car) and each column contains a particular variable.\n",
    "Recall, for the **car_data** dataset the variables are as follows:  \n",
    "\n",
    "* *Reference number*: a unique identifier\n",
    "* *Make*:             the car manufacturer\n",
    "* *PropulsionTypeId*: a code for the type of fuel (e.g. petrol, diesel...)\n",
    "* *BodyTypeId*:       a code for the type of body (e.g. convertable, estate, coupe... )\n",
    "* *GovRegion*:        where the registered keeper lives\n",
    "* *EngineSize*:       capacity of engine (cubic cm)\n",
    "* *YearRegistered*:   the year in which the vehicle was first registered\n",
    "* *Mass*:             the mass of the vehicle in Kg + 75 (the average person)\n",
    "* *CO2*:              carbon dioxide emissions (g/km)\n",
    "* *CO*:               carbon monoxide emissions (g/km)\n",
    "* *NOX*:              oxides of nitrogen emissions (g/km)\n",
    "* *part*: particulate emissions (g/km) DIESEL ONLY\n",
    "* *hc*: hydrocarbon emissions (g/km)\n",
    "* Random number: a random number betwen 0 and 1 to assist with sampling  \n",
    "\n",
    "The **head()** function returns the first six rows (cars) of the dataset we feed to it.\n",
    "To feed a dataset to a function we use the **%>%** symbol. For example:\n",
    "\n",
    "```\n",
    "dataset %>%\n",
    "head()\n",
    "```\n",
    "\n",
    "#### **Exercise 2**  \n",
    "Display the first 6 cars in the *car_data* database"
   ]
  },
  {
   "cell_type": "code",
   "execution_count": 0,
   "metadata": {
    "collapsed": false
   },
   "outputs": [
   ],
   "source": [
    "#Your code here"
   ]
  },
  {
   "cell_type": "markdown",
   "metadata": {
    "collapsed": false
   },
   "source": [
    "## Comparing counts\n",
    "Remember, we can summarise each variable using the **summary()** function to display descriptive statistics:  \n",
    "```\n",
    "... %>%\n",
    "summary()\n",
    "```\n",
    "\n",
    "For categorical variables, this will display each of the groups with the total number of observations(cars) in each group:\n",
    "* GROUP 1: number of cars in GROUP 1\n",
    "* GROUP 2: number of cars in GROUP 2\n",
    "* .  \n",
    "* .  \n",
    "* .  \n",
    "* GROUP n: number of cars in GROUP n\n",
    "#### **Exercise 3**  \n",
    "Display summary statistics for the variables in the *car_data* database  \n",
    "#### **Questions**\n",
    "1) Which year had the most cars registered?\n",
    "2) What is the most popular car manufacturer? and the least?"
   ]
  },
  {
   "cell_type": "code",
   "execution_count": 0,
   "metadata": {
    "collapsed": false
   },
   "outputs": [
   ],
   "source": [
    "#Your code here"
   ]
  },
  {
   "cell_type": "markdown",
   "metadata": {
    "collapsed": false
   },
   "source": [
    "## Visualising total counts - Bar charts 1  \n",
    "Bar charts allow us to compare the total number of observations in each group of a categorical variable:\n",
    "1) Feed the data to our **ggplot()** function using **%>%**\n",
    "2) Specify **x =** the **categorical variable** whose groups we wish to compare\n",
    "3) Specify options to make the chart look nice\n",
    "\n",
    "```\n",
    "dataset %>%\n",
    "    ggplot(aes(x = categorical variable))+\n",
    "    geom_bar(options)+\n",
    "    more_options\n",
    "```\n",
    "\n",
    "#### **Exercise 4**  \n",
    "Visualise a comparison between the total number of cars registered in 2002 and 2016  \n",
    "#### **Question**\n",
    "Can you think of any reasons for the trend you see?"
   ]
  },
  {
   "cell_type": "code",
   "execution_count": 0,
   "metadata": {
    "collapsed": false
   },
   "outputs": [
   ],
   "source": [
    "___ %>%\n",
    "  ggplot(aes(x = ___))+\n",
    "  geom_bar(colour = \"cornflowerblue\",\n",
    "           fill = \"cornflowerblue\",\n",
    "           size = 1)+\n",
    "  labs(title = \"Vehicles registered 2002 and 2016\",\n",
    "       x = \"Year\",\n",
    "       y = \"Total cars\")+\n",
    "  clean_theme"
   ]
  },
  {
   "cell_type": "markdown",
   "metadata": {
    "collapsed": false
   },
   "source": [
    "## Comparing total count of groups within groups - Bar charts 2\n",
    "We may want to compare differences between the total number of different types of vehicle released in each of the years.  \n",
    "This is the same code as above but a few important additions:\n",
    "1) In **ggplot()**, set the **colour =** and **fill =** options to **categorical variable 2**\n",
    "2) In **geom_bar()**, set the **position =** option to **\"dodge\"**\n",
    "\n",
    "```\n",
    "dataset %>%\n",
    "    ggplot(aes(x = categorical variable 1, colour = categorical variable 2, fill = categorical variable 2))+\n",
    "    geom_bar(position = \"dodge\",\n",
    "             options)+\n",
    "    more_options\n",
    "```\n",
    "\n",
    "## **Exercise 5**\n",
    "Visualise a comparison between the total number of different types of engine in 2002 and 2006  \n",
    "(*hint: begin by copying and pasting your code from **exercise 4***)\n",
    "\n",
    "## **Question**\n",
    "1) Which engine type shows the biggest increase in total registered from 2002 to 2006?\n",
    "2) Do any engine types become less popular in 2016?"
   ]
  },
  {
   "cell_type": "code",
   "execution_count": 0,
   "metadata": {
    "collapsed": false
   },
   "outputs": [
   ],
   "source": [
    "#Your code here"
   ]
  },
  {
   "cell_type": "markdown",
   "metadata": {
    "collapsed": false
   },
   "source": [
    "## Visualising proportions - Tables\n",
    "Sometimes we prefer to look at proportions rather than total counts.  \n",
    "To do this we need to transform the data to a proportion measure that we can include in a pie chart.  \n",
    "1) Start a new dataset by writing a **name** followed by **<-**\n",
    "2) Feed the original **dataset** to the **group_by()** function using **%>%**\n",
    "3) Specify a **categorical variable** to **group_by()** whose proportions you wish to visualise.\n",
    "4) Feed this to the **summarise()** function using **%>%**\n",
    "5) Set the **total = n()**. This will count the total number of observations in each group.\n",
    "6) Feed this to the **mutate()** function using **%>%**\n",
    "7) Set the **proportion = total/sum(total)**. This will divide the number of observations in each group by the total number of observations.\n",
    "```\n",
    "name_data <-\n",
    "  dataset %>%\n",
    "  group_by(variable) %>%\n",
    "  summarise(total = n()) %>%\n",
    "  mutate(proportion = (total/sum(total))\n",
    "```\n",
    "Finally we can print our new dataset using:\n",
    "```\n",
    "name_data %>%\n",
    "    print()\n",
    "```\n",
    "#### **Exercise 6**\n",
    "Create a new dataset called **proportion_data** which shows the proportion of cars registered in 2002 and 2016.  \n",
    "**print()** your new dataset to view the proportions"
   ]
  },
  {
   "cell_type": "code",
   "execution_count": 0,
   "metadata": {
    "collapsed": false
   },
   "outputs": [
   ],
   "source": [
    "proportion_data <-\n",
    "    ___ %>%\n",
    "      group_by(___) %>%\n",
    "      summarise(___) %>%\n",
    "      mutate(___)\n",
    "\n",
    "___ %>%\n",
    "    ___\n"
   ]
  },
  {
   "cell_type": "markdown",
   "metadata": {
    "collapsed": false
   },
   "source": [
    "### Visualising proportions - pie charts  \n",
    "Now you have your proportion data, you can use it to plot a pie chart:\n",
    "1) Feed your **proportion_dataset** to the **ggplot()** function using **%>%**\n",
    "2) Set the **y =** axis to your **proportion** measure and **fill =** to your **variable**\n",
    "3) Add (**+**) the **geom_col()** function\n",
    "4) Add (**+**) the **coord_polar()** function\n",
    "5) Finally add any options that make the plot prettier\n",
    "\n",
    "```\n",
    "proportion_dataset %>%\n",
    "  ggplot(aes(x = \"\", y = proportion, fill = variable))+\n",
    "  geom_col(options)+\n",
    "  coord_polar(options)+\n",
    "  more_options\n",
    "```\n",
    "#### **Exercise 7**\n",
    "Plot a pie chart from your data in **Exercise 6** using the code below"
   ]
  },
  {
   "cell_type": "code",
   "execution_count": 0,
   "metadata": {
    "collapsed": false
   },
   "outputs": [
   ],
   "source": [
    "___ %>%\n",
    "  ggplot(aes(x = \"\", y = ___, fill = ___))+\n",
    "  geom_col(colour = \"white\",\n",
    "           width = 1)+\n",
    "  coord_polar(\"y\", start = 0)+\n",
    "  labs(title = \"Cars registered by propulsion type, 2002 to 2016\")+\n",
    "  clean_theme +\n",
    "  theme_void()"
   ]
  },
  {
   "cell_type": "markdown",
   "metadata": {
    "collapsed": false
   },
   "source": [
    "## Comparing proportion of groups within groups - Tables  \n",
    "We know that more cars were bought in 2016. Therefore, comparing *total counts* of engine types between years like in **Exercise 5** may be misleading.  \n",
    "Perhaps a better way to make comparisons would be to compare the *proportion* of different engine types registered each year.  \n",
    "Once again we must construct a new dataset that contains proportion data.  \n",
    "This is the same as before but we add one more variable to the **group_by()** function to give two categorical variables.  \n",
    "**Categorical variable 1** is the variable you are comparing between (i.e. year).  \n",
    "**Categorical variable 2** is the variable whose proportions you wish to compare (i.e. engine type). \n",
    "\n",
    "```\n",
    "name_data <-\n",
    "  dataset %>%\n",
    "  group_by(categorical variable 1, categorical variable 2) %>%\n",
    "  summarise(total = n()) %>%\n",
    "  mutate(proportion = (total/sum(total))\n",
    "```\n",
    "Finally we can print our new dataset using:\n",
    "```\n",
    "name_data %>%\n",
    "    print()\n",
    "```\n",
    "#### **Exercise 8**\n",
    "Create a new dataset called **proportion_data** which shows the proportion of different engine types registered in 2002 and 2016.  \n",
    "(*hint: copy and paste your code from **exercise 6** to start.  \n",
    "extra hint: make sure the variables go into **group_by()** in the right order*)"
   ]
  },
  {
   "cell_type": "code",
   "execution_count": 0,
   "metadata": {
    "collapsed": false
   },
   "outputs": [
   ],
   "source": [
    "#Your code here"
   ]
  },
  {
   "cell_type": "markdown",
   "metadata": {
    "collapsed": false
   },
   "source": [
    "## Comparing proportion of groups within groups - Pie Charts  \n",
    "Now we have our proportion data, we can compare them in two pie charts.  \n",
    "This is identical to **Exercise 7** but we add one more line of code.  \n",
    "We add (**+**) the **grid_wrap()** function below **coord_polar()**\n",
    "Inside **grid_wrap** we provide the argument **vars(categorical variable 1)**. This tells *R* that we want to display a pie chart for each group within this variable.\n",
    "\n",
    "```\n",
    "proportion_dataset %>%\n",
    "  ggplot(aes(x = \"\", y = proportion, fill = categorical variable 2))+\n",
    "  geom_col(options)+\n",
    "  coord_polar(options)+\n",
    "  grid_wrap(vars(categorical variable1))+  #NEW LINE OF CODE\n",
    "  more_options\n",
    "```\n",
    "\n",
    "#### **Exercise 9**  \n",
    "Plot two pie charts comparing the proportion of each engine type registered in 2002 and 2006  \n",
    "(*hint: remember to put the variables in the correct order!*)\n",
    "\n",
    "#### **Questions**\n",
    "Which engine type(s) improve in popularity in 2016?  \n",
    "Do any engine types become less popular in 2016?  \n",
    "Have any of your answers from **Exercise 5** changed? Why or why not?  "
   ]
  },
  {
   "cell_type": "code",
   "execution_count": 0,
   "metadata": {
    "collapsed": false
   },
   "outputs": [
   ],
   "source": [
    "#Your code here"
   ]
  },
  {
   "cell_type": "markdown",
   "metadata": {
    "collapsed": false
   },
   "source": [
    "#### **Optional Exercise**  \n",
    "How do registered keeper identities change between 2002 and 2016?  \n",
    "a) Construct a bar chart comparing total counts between 2002 and 2016  \n",
    "b) Construct a pie chart comparing proportions between 2002 and 2016  \n",
    "Does this help to explain why more cars were bought in 2016?"
   ]
  },
  {
   "cell_type": "code",
   "execution_count": 0,
   "metadata": {
    "collapsed": false
   },
   "outputs": [
   ],
   "source": [
    "#Your code here"
   ]
  },
  {
   "cell_type": "code",
   "execution_count": 0,
   "metadata": {
    "collapsed": false
   },
   "outputs": [
   ],
   "source": [
    "#proportion data code\n",
    "\n",
    "#pie chart code"
   ]
  }
 ],
 "metadata": {
  "kernelspec": {
   "display_name": "R (system-wide)",
   "language": "r",
   "metadata": {
    "cocalc": {
     "description": "R statistical programming language",
     "priority": 10,
     "url": "https://www.r-project.org/"
    }
   },
   "name": "ir"
  },
  "language_info": {
   "codemirror_mode": "r",
   "file_extension": ".r",
   "mimetype": "text/x-r-source",
   "name": "R",
   "pygments_lexer": "r",
   "version": "3.6.3"
  }
 },
 "nbformat": 4,
 "nbformat_minor": 4
}