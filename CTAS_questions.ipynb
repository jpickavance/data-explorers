{
 "cells": [
  {
   "cell_type": "markdown",
   "metadata": {
    "collapsed": false
   },
   "source": [
    "# Central Tendency and Spread  \n",
    "## Initialising R  \n",
    "In this lesson we will be exploring the cars database that will be used in your A-level.\n",
    "We will be using a powerful programming language called *R*.\n",
    "To run code in *R*:  \n",
    "1. Click on the box containing code to highlight it in green.\n",
    "2. Click on the play button above to show the output.\n",
    "\n",
    "#### **Exercise 1**  \n",
    "Load the data and settings by running the code below. If you do this successfully you should get a message in the output."
   ]
  },
  {
   "cell_type": "code",
   "execution_count": 1,
   "metadata": {
    "collapsed": false
   },
   "outputs": [
    {
     "ename": "ERROR",
     "evalue": "Error in parse(text = x, srcfile = src): <text>:60:1: unexpected symbol\n59: \n60: print\n    ^\n",
     "output_type": "error",
     "traceback": [
      "Error in parse(text = x, srcfile = src): <text>:60:1: unexpected symbol\n59: \n60: print\n    ^\nTraceback:\n"
     ]
    }
   ],
   "source": [
    "library(dplyr)\n",
    "library(ggplot2)\n",
    "library(readr)\n",
    "library(gridExtra)\n",
    "\n",
    "options(repr.plot.width=8,\n",
    "        repr.plot.height=4,\n",
    "        warn=-1)\n",
    "\n",
    "car_data <- read_csv(\"cars_data.csv\")\n",
    "\n",
    "clean_theme <- theme_bw(base_size=12, base_family=\"sans\") + \n",
    "  theme(panel.border = element_blank(), \n",
    "        panel.grid.major = element_blank(),\n",
    "        panel.grid.minor = element_blank(),\n",
    "        legend.text = element_text(size = 12),\n",
    "        legend.title = element_text(size=12),\n",
    "        axis.line = element_line(size = 0.5, colour = \"black\"),\n",
    "        axis.title = element_text(face = \"plain\"),\n",
    "        strip.background = element_blank()\n",
    "  )\n",
    "\n",
    "clean_theme_hist <- theme_bw(base_size=12, base_family=\"sans\") + \n",
    "  theme(panel.border = element_blank(), \n",
    "        panel.grid.major = element_blank(),\n",
    "        panel.grid.minor = element_blank(),\n",
    "        legend.text = element_text(size = 12),\n",
    "        legend.title = element_text(size=12),\n",
    "        axis.line = element_line(size = 0.5, colour = \"black\"),\n",
    "        axis.title = element_text(face = \"plain\"),\n",
    "        strip.background = element_blank(),\n",
    "        axis.text.y = element_blank(),\n",
    "        axis.ticks.y = element_blank()\n",
    "  )\n",
    "\n",
    "car_data <-\n",
    "    car_data %>%\n",
    "    mutate(YearRegistered = as.factor(YearRegistered),\n",
    "         GovRegion = as.factor(GovRegion),\n",
    "         PropulsionTypeId = as.factor(ifelse(PropulsionTypeId == 1, \"Petrol\",\n",
    "                                   ifelse(PropulsionTypeId == 2, \"Diesel\",\n",
    "                                          ifelse(PropulsionTypeId == 3, \"Electric\",\n",
    "                                                 ifelse(PropulsionTypeId == 7, \"Gas/Petrol\",\n",
    "                                                        ifelse(PropulsionTypeId == 8, \"Electric/Petrol\", NA)))))),\n",
    "         BodyTypeId = as.factor(ifelse(BodyTypeId == 1, \"2 door saloon\",\n",
    "                             ifelse(BodyTypeId == 2, \"4 door saloon\",\n",
    "                                    ifelse(BodyTypeId == 3, \"saloon\",\n",
    "                                           ifelse(BodyTypeId == 4, \"convertible\",\n",
    "                                                  ifelse(BodyTypeId == 5, \"coupe\",\n",
    "                                                         ifelse(BodyTypeId == 6, \"estate\",\n",
    "                                                                ifelse(BodyTypeId == 13, \"3 door hatchback\",\n",
    "                                                                       ifelse(BodyTypeId == 14, \"5 door hatchback\",\n",
    "                                                                              ifelse(BodyTypeId == 96, \"Multi Purpose Vehicle\", NA)))))))))),\n",
    "         KeeperTitleId = as.factor(ifelse(KeeperTitleId == 1, \"Male\",\n",
    "                                ifelse(KeeperTitleId == 2, \"Female\",\n",
    "                                       ifelse(KeeperTitleId == 3, \"(not used)\",\n",
    "                                              ifelse(KeeperTitleId == 4, \"unknown (Dr, Rev, etc.)\",\n",
    "                                                     ifelse(KeeperTitleId == 5, \"company\", NA))))))\n",
    "\n",
    "print(\"Ready to rumble\")"
   ]
  },
  {
   "cell_type": "markdown",
   "metadata": {
    "collapsed": false
   },
   "source": [
    "## Inspecting the data\n",
    "\n",
    "Each row is a single entry (car) and each column contains a particular variable.\n",
    "For the **car_data** dataset the variables are as follows:  \n",
    "\n",
    "* *Reference number*: a unique identifier\n",
    "* *Make*:             the car manufacturer\n",
    "* *PropulsionTypeId*: a code for the type of fuel (e.g. petrol, diesel...)\n",
    "* *BodyTypeId*:       a code for the type of body (e.g. convertable, estate, coupe... )\n",
    "* *GovRegion*:        where the registered keeper lives\n",
    "* *EngineSize*:       capacity of engine (cubic cm)\n",
    "* *YearRegistered*:   the year in which the vehicle was first registered\n",
    "* *Mass*:             the mass of the vehicle in Kg + 75 (the average person)\n",
    "* *CO2*:              carbon dioxide emissions (g/km)\n",
    "* *CO*:               carbon monoxide emissions (g/km)\n",
    "* *NOX*:              oxides of nitrogen emissions (g/km)\n",
    "* *part*: particulate emissions (g/km) DIESEL ONLY\n",
    "* *hc*: hydrocarbon emissions (g/km)\n",
    "* Random number: a random number betwen 0 and 1 to assist with sampling  \n",
    "\n",
    "The **head()** function returns the first six rows (cars) of the dataset we feed to it.\n",
    "To feed a dataset to a function we use the **%>%** symbol. For example:\n",
    "\n",
    "```\n",
    "dataset %>%\n",
    "head()\n",
    "```\n",
    "\n",
    "#### **Exercise 2**  \n",
    "Display the first 6 cars in the *car_data* database"
   ]
  },
  {
   "cell_type": "code",
   "execution_count": 0,
   "metadata": {
    "collapsed": false,
    "scrolled": true
   },
   "outputs": [
   ],
   "source": [
    "____ %>%\n",
    "head()"
   ]
  },
  {
   "cell_type": "markdown",
   "metadata": {
    "collapsed": false
   },
   "source": [
    "#### **Questions**  \n",
    "1) Which variables are continuous and which are categorical?  \n",
    "2) Which car has the biggest engine? \n",
    "3) What is the oldest car?"
   ]
  },
  {
   "cell_type": "markdown",
   "metadata": {
    "collapsed": false
   },
   "source": [
    "## Means, Medians, and Ranges  \n",
    "We can summarise each variable using the **summary()** function to display descriptive statistics:  \n",
    "```\n",
    "... %>%\n",
    "summary()\n",
    "```\n",
    "\n",
    "For continuous variables, this will display:\n",
    "* Min. : the minimum value in the database\n",
    "* 1st Qu. : the value of the lower quartile in the database\n",
    "* Median : the median value in the database\n",
    "* Mean : the mean value in the database\n",
    "* 3rd Qu. : the value of the upper quartile in the database\n",
    "* Max. : the maximum value in the database  \n",
    "#### **Exercise 3**  \n",
    "Display summary statistics for the variables in the *car_data* database  \n",
    "#### **Questions**\n",
    "1) What is the highest amount of CO2 emitted?\n",
    "2) What is the interquartile range for mass?\n",
    "3) Which variable has the largest proportional difference between its median and mean values?\n",
    "4) What does 3. tell us about its distribution?"
   ]
  },
  {
   "cell_type": "code",
   "execution_count": 0,
   "metadata": {
    "collapsed": false
   },
   "outputs": [
   ],
   "source": [
    "___ %>%\n",
    "___"
   ]
  },
  {
   "cell_type": "markdown",
   "metadata": {
    "collapsed": false
   },
   "source": [
    "## Visualisation 1 - Histograms\n",
    "\n",
    "Histograms allow us to visualise the distribution of a variable.\n",
    "The **x(horizontal)-axis** shows us the range of values of the variable in our dataset.\n",
    "The **y(vertical)-axis** shows us the total number of rows (cars) that correspond to that range of values.  \n",
    "\n",
    "In *R*, we can do this using the ggplot() function:\n",
    "1) Feed the **dataset** to our function.\n",
    "2) Specify the **variable** (e.g. CO2, EngineSize, etc.) we want to visualise on our x-axis.\n",
    "3) Add(**+**) the type of graph we want on the line below. There are many different types of graph, but the histogram is called **geom_histogram()**.\n",
    "4) Set options to change the appearance of our graph and make it pretty.\n",
    "```\n",
    "dataset %>%\n",
    "ggplot(aes(x = variable)) +\n",
    "    geom_histogram(options)+\n",
    "    more_options\n",
    "```\n",
    "#### **Exercise 4**  \n",
    "Visualise the distribution of CO2 emissions in the car database\n",
    "\n"
   ]
  },
  {
   "cell_type": "code",
   "execution_count": 0,
   "metadata": {
    "collapsed": false
   },
   "outputs": [
   ],
   "source": [
    "___ %>%\n",
    "ggplot(aes(x = ___))+\n",
    "    geom_histogram(colour=\"cornflowerblue\",\n",
    "                   fill=\"white\") +\n",
    "    labs(title = \"Distribution of CO2 emissions\",\n",
    "         x = \"CO2 emissions(g/km)\",\n",
    "         y = \"Frequency\")+\n",
    "    clean_theme_hist\n"
   ]
  },
  {
   "cell_type": "markdown",
   "metadata": {
    "collapsed": false
   },
   "source": [
    "#### **Exercise 5**  \n",
    "Visualise the distributions for CO emissions and NOx emissions  \n",
    "(*hint: copy and paste your previous code to make this quicker*)\n",
    "\n",
    "#### **Questions**\n",
    "Considering the CO2, CO, and NOx distributions, when is the median a more suitable measure than the mean?"
   ]
  },
  {
   "cell_type": "code",
   "execution_count": 0,
   "metadata": {
    "collapsed": false
   },
   "outputs": [
   ],
   "source": [
    "#Your code here (CO)"
   ]
  },
  {
   "cell_type": "code",
   "execution_count": 0,
   "metadata": {
    "collapsed": false
   },
   "outputs": [
   ],
   "source": [
    "#Your code here (NOX)"
   ]
  },
  {
   "cell_type": "markdown",
   "metadata": {
    "collapsed": false
   },
   "source": [
    "## Visualisation 2 - Histograms with ranges\n",
    "We can also include information about the mean/median and range on our histograms by drawing a verticle line through these points:\n",
    "1) Add (**+**) the **geom_vline()** function below **geom_histogram()**\n",
    "2) Specify **xintercept =** as the value you wish to display\n",
    "\n",
    "```\n",
    "dataset %>%\n",
    "ggplot(aes(x = variable)) +\n",
    "    geom_histogram(options)+\n",
    "    geom_vline(xintercept = 12345)+\n",
    "    more_options\n",
    "```\n",
    "\n",
    "3) Multiple lines can be drawn (e.g. one for the lower quartile, one for the mean/median, and one for the upper quartile)\n",
    "4) You can change the **linetype = \"dashed\"** to make it easier to see what each line corresponds to - **DON'T FORGET THE \"\"**\n",
    "\n",
    "```\n",
    "ggplot(aes(x = variable)) +\n",
    "    geom_histogram(options)+\n",
    "    geom_vline(xintercept = mean)+\n",
    "    geom_vline(xintercept = lowerQ,\n",
    "               linetype = \"dashed\")+\n",
    "    geom_vline(xintercept = upperQ,\n",
    "               linetype = \"dashed\")+\n",
    "    more_options\n",
    "```\n",
    "\n",
    "#### **Exercise 6**\n",
    "Visualise the distribution for CO2 emissions, including lines for the mean and interquartile range.  \n",
    "(*hint: first you'll need to calculate the values using **summary()***)"
   ]
  },
  {
   "cell_type": "code",
   "execution_count": 0,
   "metadata": {
    "collapsed": false
   },
   "outputs": [
   ],
   "source": [
    "___ %>%\n",
    "  ggplot(aes(x=__))+\n",
    "  geom_histogram(color = \"cornflowerblue\",\n",
    "                 fill=\"white\")+\n",
    "  geom_vline(xintercept = ___,\n",
    "             size = 1)+\n",
    "  geom_vline(xintercept = ___,\n",
    "             linetype = \"dashed\",\n",
    "             size = 1)+\n",
    "  geom_vline(xintercept = ___,\n",
    "             linetype = \"dashed\",\n",
    "             size = 1)+\n",
    "  labs(title = \"Distribution of CO2 emissions\",\n",
    "       y = \"Frequency\",\n",
    "       x = \"CO2 emissions(g/km)\")+\n",
    "  clean_theme_hist"
   ]
  },
  {
   "cell_type": "markdown",
   "metadata": {
    "collapsed": false
   },
   "source": [
    "#### **Exercise 7**\n",
    "Visualise the distribution for CO and NOx emissions, you should decide which lines are the most appropriate.  \n",
    "(*hint: first you'll need to calculate the values using **summary()***)\n",
    "\n",
    "#### **Questions**\n",
    "1) Which variable shows the narrowest distribution? widest?\n",
    "2) Are any of the variables skewed?"
   ]
  },
  {
   "cell_type": "code",
   "execution_count": 0,
   "metadata": {
    "collapsed": false
   },
   "outputs": [
   ],
   "source": [
    "#Your code here (CO)"
   ]
  },
  {
   "cell_type": "code",
   "execution_count": 0,
   "metadata": {
    "collapsed": false
   },
   "outputs": [
   ],
   "source": [
    "#Your code here (NOX)"
   ]
  },
  {
   "cell_type": "markdown",
   "metadata": {
    "collapsed": false
   },
   "source": [
    "## Visualisation 3 - Boxplots  \n",
    "Histograms aren't very useful if we want to compare distributions.\n",
    "For this we need box plots:\n",
    "1) Feed the data to the **ggplot()** function\n",
    "2) Specify the **variable** as the **y** axis\n",
    "3) Add(**+**) **geom_boxplot()** below\n",
    "4) Specify further options\n",
    "\n",
    "```\n",
    "data_set %>%\n",
    "    ggplot(aes(y = variable))+\n",
    "    geom_boxplot(options)+\n",
    "    more_options\n",
    "```\n",
    "## **Exercise 8**  \n",
    "Plot a boxplot for CO2 emissions from the car data"
   ]
  },
  {
   "cell_type": "code",
   "execution_count": 0,
   "metadata": {
    "collapsed": false
   },
   "outputs": [
   ],
   "source": [
    "___ %>%\n",
    "  ggplot(aes(y=___))+\n",
    "  geom_boxplot(outlier.shape = NA)+\n",
    "  clean_theme"
   ]
  },
  {
   "cell_type": "markdown",
   "metadata": {
    "collapsed": false
   },
   "source": [
    "## Comparing distributions  \n",
    "We might want to compare CO2 emissions between 2002 and 2016.\n",
    "For this we must group continuous variables by their category (e.g. Year Registered) and see how the distributions differ:\n",
    "1) In addition to *y* axis, specify the *x* axis as the categorical variable whose groups we wish to compare\n",
    "2) We can also set the colour to the categorical variable to make it easier to see.\n",
    "\n",
    "```\n",
    "car_data %>%\n",
    "  ggplot(aes(y= continuous variable, x = categorical variable, colour = categorical variable))+\n",
    "  geom_boxplot(options)+\n",
    "  more_options\n",
    "```\n",
    "\n",
    "## **Exercise 9**  \n",
    "Visualise a comparison between CO2 emissions in 2002 and 2016\n",
    "\n",
    "## **Questions**  \n",
    "1) What has the general trend been in terms of a) central tendency and b) spread?\n",
    "2) Why do you think this is the case?"
   ]
  },
  {
   "cell_type": "code",
   "execution_count": 0,
   "metadata": {
    "collapsed": false
   },
   "outputs": [
   ],
   "source": [
    "#Your code here"
   ]
  },
  {
   "cell_type": "markdown",
   "metadata": {
    "collapsed": false
   },
   "source": [
    "## **Optional Exercise**\n",
    "How do emissions differ between different Makes and BodyTypes of vehicle? Play around and see if you can find any interesting patterns"
   ]
  },
  {
   "cell_type": "code",
   "execution_count": 0,
   "metadata": {
    "collapsed": false
   },
   "outputs": [
   ],
   "source": [
    "#Your code here"
   ]
  }
 ],
 "metadata": {
  "kernelspec": {
   "display_name": "R (system-wide)",
   "language": "r",
   "metadata": {
    "cocalc": {
     "description": "R statistical programming language",
     "priority": 10,
     "url": "https://www.r-project.org/"
    }
   },
   "name": "ir"
  },
  "language_info": {
   "codemirror_mode": "r",
   "file_extension": ".r",
   "mimetype": "text/x-r-source",
   "name": "R",
   "pygments_lexer": "r",
   "version": "3.6.3"
  }
 },
 "nbformat": 4,
 "nbformat_minor": 4
}