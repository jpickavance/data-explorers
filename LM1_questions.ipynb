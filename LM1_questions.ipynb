{
 "cells": [
  {
   "cell_type": "markdown",
   "metadata": {
    "collapsed": false
   },
   "source": [
    "# Linear Models\n",
    "## Initialising R  \n",
    "In this lesson we will be exploring the cars database that will be used in your A-level.\n",
    "We will be using a powerful programming language called *R*.\n",
    "To run code in *R*:  \n",
    "1. Click on the box containing code to highlight it in green.\n",
    "2. Click on the play button above to show the output.\n",
    "\n",
    "#### **Exercise 1**  \n",
    "Load the data and settings by running the code below. If you do this successfully you should get a message in the output."
   ]
  },
  {
   "cell_type": "code",
   "execution_count": 0,
   "metadata": {
    "collapsed": false
   },
   "outputs": [
   ],
   "source": [
    "library(tidyverse)\n",
    "library(readr)\n",
    "\n",
    "options(repr.plot.width=8,\n",
    "        repr.plot.height=4,\n",
    "        warn=-1)\n",
    "\n",
    "clean_theme <- theme_bw(base_size=12, base_family=\"sans\") + \n",
    "  theme(panel.border = element_blank(), \n",
    "        panel.grid.major = element_blank(),\n",
    "        panel.grid.minor = element_blank(),\n",
    "        legend.text = element_text(size = 12),\n",
    "        legend.title = element_text(size=12),\n",
    "        axis.line = element_line(size = 0.5, colour = \"black\"),\n",
    "        axis.title = element_text(face = \"plain\"),\n",
    "        strip.background = element_blank()\n",
    "  )\n",
    "\n",
    "clean_theme_hist <- theme_bw(base_size=12, base_family=\"sans\") + \n",
    "  theme(panel.border = element_blank(), \n",
    "        panel.grid.major = element_blank(),\n",
    "        panel.grid.minor = element_blank(),\n",
    "        legend.text = element_text(size = 12),\n",
    "        legend.title = element_text(size=12),\n",
    "        axis.line = element_line(size = 0.5, colour = \"black\"),\n",
    "        axis.title = element_text(face = \"plain\"),\n",
    "        strip.background = element_blank(),\n",
    "        axis.text.y = element_blank(),\n",
    "        axis.ticks.y = element_blank()\n",
    "  )\n",
    "\n",
    "car_df <-\n",
    "  read_csv(\"cars_data.csv\")\n",
    "\n",
    "car_data <-\n",
    "  car_df %>%\n",
    "  mutate(YearRegistered = as.factor(YearRegistered),\n",
    "         GovRegion = as.factor(GovRegion),\n",
    "         PropulsionTypeId = as.factor(ifelse(PropulsionTypeId == 1, \"Petrol\",\n",
    "                                   ifelse(PropulsionTypeId == 2, \"Diesel\",\n",
    "                                          ifelse(PropulsionTypeId == 3, \"Electric\",\n",
    "                                                 ifelse(PropulsionTypeId == 7, \"Gas/Petrol\",\n",
    "                                                        ifelse(PropulsionTypeId == 8, \"Electric/Petrol\", NA)))))),\n",
    "         BodyTypeId = as.factor(ifelse(BodyTypeId == 1, \"2 door saloon\",\n",
    "                             ifelse(BodyTypeId == 2, \"4 door saloon\",\n",
    "                                    ifelse(BodyTypeId == 3, \"saloon\",\n",
    "                                           ifelse(BodyTypeId == 4, \"convertible\",\n",
    "                                                  ifelse(BodyTypeId == 5, \"coupe\",\n",
    "                                                         ifelse(BodyTypeId == 6, \"estate\",\n",
    "                                                                ifelse(BodyTypeId == 13, \"3 door hatchback\",\n",
    "                                                                       ifelse(BodyTypeId == 14, \"5 door hatchback\",\n",
    "                                                                              ifelse(BodyTypeId == 96, \"Multi Purpose Vehicle\", NA)))))))))),\n",
    "         KeeperTitleId = as.factor(ifelse(KeeperTitleId == 1, \"Male\",\n",
    "                                ifelse(KeeperTitleId == 2, \"Female\",\n",
    "                                       ifelse(KeeperTitleId == 3, \"(not used)\",\n",
    "                                              ifelse(KeeperTitleId == 4, \"unknown (Dr, Rev, etc.)\",\n",
    "                                                     ifelse(KeeperTitleId == 5, \"company\", NA)))))),\n",
    "         Make = as.factor(Make))\n",
    "print(\"Ready to rumble\")"
   ]
  },
  {
   "cell_type": "markdown",
   "metadata": {
    "collapsed": false
   },
   "source": [
    "## Inspecting the data\n",
    "\n",
    "Each row is a single entry (car) and each column contains a particular variable.\n",
    "Recall, for the **car_data** dataset the variables are as follows:  \n",
    "\n",
    "* *Reference number*: a unique identifier\n",
    "* *Make*:             the car manufacturer\n",
    "* *PropulsionTypeId*: a code for the type of fuel (e.g. petrol, diesel...)\n",
    "* *BodyTypeId*:       a code for the type of body (e.g. convertable, estate, coupe... )\n",
    "* *GovRegion*:        where the registered keeper lives\n",
    "* *EngineSize*:       capacity of engine (cubic cm)\n",
    "* *YearRegistered*:   the year in which the vehicle was first registered\n",
    "* *Mass*:             the mass of the vehicle in Kg + 75 (the average person)\n",
    "* *CO2*:              carbon dioxide emissions (g/km)\n",
    "* *CO*:               carbon monoxide emissions (g/km)\n",
    "* *NOX*:              oxides of nitrogen emissions (g/km)\n",
    "* *part*: particulate emissions (g/km) DIESEL ONLY\n",
    "* *hc*: hydrocarbon emissions (g/km)\n",
    "* Random number: a random number betwen 0 and 1 to assist with sampling  \n",
    "\n",
    "The **head()** function returns the first six rows (cars) of the dataset we feed to it.\n",
    "To feed a dataset to a function we use the **%>%** symbol. For example:\n",
    "\n",
    "```\n",
    "dataset %>%\n",
    "head()\n",
    "```\n",
    "\n",
    "#### **Exercise 2**  \n",
    "Display the first 6 cars in the *car_data* database"
   ]
  },
  {
   "cell_type": "code",
   "execution_count": 0,
   "metadata": {
    "collapsed": false
   },
   "outputs": [
   ],
   "source": [
    "#Your code here"
   ]
  },
  {
   "cell_type": "markdown",
   "metadata": {
    "collapsed": false
   },
   "source": [
    "## Summary statistics\n",
    "Remember, we can summarise each variable using the **summary()** function to display descriptive statistics:  \n",
    "```\n",
    "dataset %>%\n",
    "summary()\n",
    "```\n",
    "\n",
    "#### **Exercise 3**  \n",
    "Display summary statistics for the variables in the *car_data* database  "
   ]
  },
  {
   "cell_type": "code",
   "execution_count": 0,
   "metadata": {
    "collapsed": false
   },
   "outputs": [
   ],
   "source": [
    "#Your code here"
   ]
  },
  {
   "cell_type": "markdown",
   "metadata": {
    "collapsed": false
   },
   "source": [
    "## Relationships between continuous variables - Scatter plots  \n",
    "How do CO2 emissions change when cars get heavier?  \n",
    "We can visualise this by plotting each car's weight on the x-axis, and CO2 emissions on the y-axis.  \n",
    "Every car will now be represented by a point in a **scatter plot**:  \n",
    "1) Feed the dataset into the **ggplot()** function\n",
    "2) Set the **x =** and **y =** to **continuous variable 1** and **continuous variable 2**\n",
    "3) Note: it doesn't matter which order you put them in, but it's conventional to use the variable you are varying for **x** and the variable you are predicting for **y**\n",
    "4) Add(**+**) the **geom_point()** argument. This is what plots each dot.\n",
    "5) Finally change any options to improve the look.\n",
    "\n",
    "```\n",
    "dataset %>%\n",
    "ggplot(aes(x = continuous variable1, y = continuous variable2))+\n",
    "geom_point(options)+\n",
    "more_options\n",
    "```\n",
    "\n",
    "#### **Exercise 4**  \n",
    "Plot a scatter plot to show the relationship between the mass of a car and its CO2 emissions\n",
    "\n",
    "#### **Questions**\n",
    "How do emissions change as cars get heavier?  \n",
    "Why do you think some cars are listed as having no weight?\n",
    "Does including cars with no weight effect the pattern in the data?"
   ]
  },
  {
   "cell_type": "code",
   "execution_count": 0,
   "metadata": {
    "collapsed": false
   },
   "outputs": [
   ],
   "source": [
    "___ %>%\n",
    "    ggplot(aes(x = ___, y = ___))+\n",
    "    geom_point(size = 1,\n",
    "               shape = 1,\n",
    "               colour = \"cornflowerblue\")+\n",
    "    labs(title = \"The relationship between vehicle mass and CO2 emissions\",\n",
    "           x = \"Mass(Kg)\",\n",
    "           y = \"CO2 emissions (g/km)\")+\n",
    "    clean_theme"
   ]
  },
  {
   "cell_type": "markdown",
   "metadata": {
    "collapsed": false
   },
   "source": [
    "## Dealing with missing data  \n",
    "We don't want to include cars with mass = 0 in our plots because they obscure any relationships with mass.  \n",
    "Still, we don't know where they're coming from, and we need to account for any data we exclude.  \n",
    "To investigate this data we need to **filter()** the **car_data** to only include cars whose Mass = 0:\n",
    "\n",
    "```\n",
    "dataset %>%\n",
    "filter(variable == value)\n",
    "```\n",
    "Note that in the code we use **==** two equals signs.  \n",
    "\n",
    "We can then summarise this data by using the **summary()** function again:\n",
    "```\n",
    "... %>%\n",
    "summary()\n",
    "```\n",
    "\n",
    "#### **Exercise 5**  \n",
    "Summarise the data for cars whose mass is 0  \n",
    "#### **Question**\n",
    "What do all these cars have in common?  \n",
    "What effects will removing this data have on mean/median mass of vehicle? the differences in mass between 2002 and 2016?"
   ]
  },
  {
   "cell_type": "code",
   "execution_count": 0,
   "metadata": {
    "collapsed": false
   },
   "outputs": [
   ],
   "source": [
    "___ %>%\n",
    "___(___) %>%\n",
    "___()"
   ]
  },
  {
   "cell_type": "markdown",
   "metadata": {
    "collapsed": false
   },
   "source": [
    "## Updating the dataset  \n",
    "We need to create a new dataset without cars with mass = 0:\n",
    "1) Name a **new_dataset** followed by **<-**\n",
    "2) **filter()** the old data set as above\n",
    "3) This time we don't want cars with mass zero though, we want cars with mass **greater than zero**, for this wee use the **>** sign\n",
    "```\n",
    "new_data <-\n",
    "    dataset %>%\n",
    "    filter(variable > value)\n",
    "```\n",
    "\n",
    "#### **Exercise 6**  \n",
    "Create a new dataset called **mass_filter_data** which includes only cars with mass greater than zero"
   ]
  },
  {
   "cell_type": "code",
   "execution_count": 0,
   "metadata": {
    "collapsed": false
   },
   "outputs": [
   ],
   "source": [
    "mass_filter_data <-\n",
    "    #Your code here\n",
    "\n",
    "print(\"mass_filter_data saved\")"
   ]
  },
  {
   "cell_type": "markdown",
   "metadata": {
    "collapsed": false
   },
   "source": [
    "Run the code below to check your mass_filter_data has fewer rows than the original car_data"
   ]
  },
  {
   "cell_type": "code",
   "execution_count": 0,
   "metadata": {
    "collapsed": false
   },
   "outputs": [
   ],
   "source": [
    "nrow(car_data)\n",
    "nrow(mass_filter_data)"
   ]
  },
  {
   "cell_type": "markdown",
   "metadata": {
    "collapsed": false
   },
   "source": [
    "#### **Exercise 7**\n",
    "Using the **mass_filter_data**, plot two more scatter plots:  \n",
    "a)The relationship between Mass and EngineSize  \n",
    "b)The relationship between EngineSize and CO2\n",
    "#### **Questions**  \n",
    "Why do the scatter plots with engine size appear stripy?\n",
    "Is the relationship between engine size and CO2 emissions the same as the relationship between mass and CO2 emissions (from above)?\n"
   ]
  },
  {
   "cell_type": "code",
   "execution_count": 0,
   "metadata": {
    "collapsed": false
   },
   "outputs": [
   ],
   "source": [
    "#Your code here (a) TRY COPY AND PASTE FROM EXERCISE 4 AS A STARTING POINT - DONT FORGET TO CHANGE THE DATASET YOU'RE USING"
   ]
  },
  {
   "cell_type": "code",
   "execution_count": 0,
   "metadata": {
    "collapsed": false
   },
   "outputs": [
   ],
   "source": [
    "#Your code here (b)"
   ]
  },
  {
   "cell_type": "markdown",
   "metadata": {
    "collapsed": false
   },
   "source": [
    "## Fitting a linear model\n",
    "We can use graphs like this to predict unknown values of CO2 emissions, given the weight or size of the engine in the car.  \n",
    "To visualise this, we add a single line of code to our plot:\n",
    "```\n",
    "geom_smooth(method = \"lm\")\n",
    "```\n",
    "**geom_smooth()** is a smoothing function which estimates the line of best fit for the data.  \n",
    "The method we give it **\"lm\"** stands for **linear model** which means it will fit the best straight line.  \n",
    "\n",
    "#### **Exercise 8**\n",
    "Plot  \n",
    "a) Mass and CO2   \n",
    "b) EngineSize and CO2  \n",
    "This time include the linear model on top of the scatter plot\n",
    "\n",
    "#### Questions\n",
    "Which has more of an influence on CO2 emissions, weight or mass?  \n",
    "Check the scale of your x-axis, does your answer remain the same?"
   ]
  },
  {
   "cell_type": "code",
   "execution_count": 0,
   "metadata": {
    "collapsed": false
   },
   "outputs": [
   ],
   "source": [
    "#Your code here a) - COPY AND PASTE IS YOUR FRIEND"
   ]
  },
  {
   "cell_type": "code",
   "execution_count": 0,
   "metadata": {
    "collapsed": false
   },
   "outputs": [
   ],
   "source": [
    "#Your code here"
   ]
  },
  {
   "cell_type": "markdown",
   "metadata": {
    "collapsed": false
   },
   "source": [
    "## Quantifying the relationship\n",
    "Recall the equation for a straight line:  \n",
    "### $y = mx + c$  \n",
    "Where $m$ is the gradient of the line and $c$ is the $y$ intercept (value of $y$ when $x = 0$)  \n",
    "We can use *R* to extract the value of $m$ and $c$ for our linear models using the **lm()** function:\n",
    "```\n",
    "lm(variable1 ~ 1 + variable2, data = dataset)\n",
    "```\n",
    "In the example above, $y$ = variable1 and $x$ = variable2. The 1 is a dummy value for the intercept when $x$ = variable2 = 0.  \n",
    "Note that we use **~** instead of equals when defining the formula.\n",
    "\n",
    "To extract the estimated values of $m$ and $c$ we feed the above to the **coef()** function and then **round(digits = 3)** to round to three decimal places.\n",
    "```\n",
    "... %>%\n",
    "coef() %>%\n",
    "round(digits = 3)\n",
    "```\n",
    "The value of **(intercept)** is $c$ in the equation. And the value of **variable2** is $m$ in your equation.\n",
    "#### **Exercise**\n",
    "Find the value of $m$ and $c$ for the two linear models below:  \n",
    "a) $CO_2 = m*Mass + c$  \n",
    "b) $CO_2 = m*EngineSize + c$\n",
    "\n",
    "#### **Questions**\n",
    "For every Kg increase in car weight, how much does CO2 emissions increase by?  \n",
    "Does Mass (per Kg) or Engine size (per cc) have more of an effect on CO2 emissions?  \n",
    "My car has a mass of 1200Kg and an engine size of 4000cc. What does each model predict its emissions will be?  \n",
    "Why do you get two very different answers?"
   ]
  },
  {
   "cell_type": "code",
   "execution_count": 0,
   "metadata": {
    "collapsed": false
   },
   "outputs": [
   ],
   "source": [
    "lm(___  ~ ___ + ___, data = ___) %>%\n",
    "coef() %>%\n",
    "round(digits = 3)"
   ]
  },
  {
   "cell_type": "code",
   "execution_count": 0,
   "metadata": {
    "collapsed": false
   },
   "outputs": [
   ],
   "source": [
    "#Your code here (b)"
   ]
  },
  {
   "cell_type": "markdown",
   "metadata": {
    "collapsed": false
   },
   "source": [
    "## Including multiple predictors in our models\n",
    "We don't have to settle for just one predictor. In fact, we can use as many as we like:\n",
    "```\n",
    "lm(variable1 ~ 1 + variable2 + variable3 + variable4 + variable5...., data = dataset)\n",
    "```\n",
    "#### **Exercise**\n",
    "Calculate the values of $m_1$ and $m_2$ and $c$ for the model below  \n",
    "$CO_2$ = $m_1$*$Mass$ + $m_2$*$EngineSize$ + $c$\n",
    "\n",
    "#### **Question**\n",
    "Do you still think mass and engine size have the same effect on CO2 emissions?  \n",
    "Using **Exercise 7**, can you explain why the estimates have changed?"
   ]
  },
  {
   "cell_type": "code",
   "execution_count": 0,
   "metadata": {
    "collapsed": false
   },
   "outputs": [
   ],
   "source": [
    "#Your code here"
   ]
  }
 ],
 "metadata": {
  "kernelspec": {
   "display_name": "R (system-wide)",
   "language": "r",
   "metadata": {
    "cocalc": {
     "description": "R statistical programming language",
     "priority": 10,
     "url": "https://www.r-project.org/"
    }
   },
   "name": "ir"
  },
  "language_info": {
   "codemirror_mode": "r",
   "file_extension": ".r",
   "mimetype": "text/x-r-source",
   "name": "R",
   "pygments_lexer": "r",
   "version": "3.6.3"
  }
 },
 "nbformat": 4,
 "nbformat_minor": 4
}